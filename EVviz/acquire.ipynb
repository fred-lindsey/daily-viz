{
 "cells": [
  {
   "cell_type": "code",
   "execution_count": null,
   "metadata": {},
   "outputs": [],
   "source": [
    "# Data to Acquire:\n",
    "# 1. overview of electric cars currently on the market from ev-database.org\n",
    "# 2. Average car prices for consumers since 1960 (real and nominal)\n",
    "# 3. US median wage since 1960 (real and nominal)\n",
    "# 4. EV battery prices since 2013, can also be component prices (Li, Cobalt, Nickel, Aluminum)\n",
    "# 5. EVs produced yearly since 2013\n",
    "# 6. EVs sold yearly 2013"
   ]
  },
  {
   "cell_type": "code",
   "execution_count": 3,
   "metadata": {},
   "outputs": [],
   "source": [
    "# Step 1: imports\n",
    "from requests import get\n",
    "from bs4 import BeautifulSoup\n",
    "import os\n",
    "import requests\n",
    "import json\n",
    "from typing import Dict, List, Optional, Union, cast\n",
    "import time\n",
    "import pandas as pd\n",
    "from datetime import date"
   ]
  },
  {
   "cell_type": "code",
   "execution_count": 4,
   "metadata": {},
   "outputs": [],
   "source": [
    "### Always Check for the Hidden API When Web Scraping - Youtube Video by John Watson Rooney\n",
    "\n",
    "### Using REI's site as an example, under section camp electronics\n",
    "\n",
    "# 1. navigate to site, inspect page elements\n",
    "# 2. in the inspect page elemnets box, click the network tab in the toolbar at top, and check the box for 'Fetch/XHR' to retrieve the full web request\n",
    "# 3. navigate to the bottom of the target page, click on 'more' or 'page 2', which will generate more search results\n",
    "# 4. select the request that contains all of the web page info (page size/items). This result is the body of the scrpaing file we will build.\n",
    "# 5. Copy the appropriate result with a right click \"copy cURL\"\n",
    "# 6. Paste into Insomnia (API tool), and attempt to edit the item counts per page, to reduce aggregate page requests during scraping.\n",
    "# 7. Once complete with parameter adjustment, click the drop down arrow to the right of the GET request, select 'generate code'\n",
    "# 8. Select 'Python', copy to clipboard, paste in IDE\n",
    "# 9. Note: common issues with generated dict:\n",
    "#     a. quotes: 2x double quotes. fix by replacing the outer double quotes with single quotes\n",
    "#     b. clean up the code by removing the empty payload varaible, then from the response variable equation"
   ]
  },
  {
   "cell_type": "code",
   "execution_count": 13,
   "metadata": {},
   "outputs": [
    {
     "data": {
      "text/plain": [
       "'\\n\\n\\n\\n\\n     \\nCompare electric vehicles - EV Database'"
      ]
     },
     "execution_count": 13,
     "metadata": {},
     "output_type": "execute_result"
    }
   ],
   "source": [
    "# do the basics, set up a get(url), check response\n",
    "url = \"https://ev-database.org/#sort:path~type~order=.rank~number~desc|range-slider-range:prev~next=0~1200|range-slider-acceleration:prev~next=2~23|range-slider-topspeed:prev~next=110~450|range-slider-battery:prev~next=10~200|range-slider-towweight:prev~next=0~2500|range-slider-fastcharge:prev~next=0~1500|paging:currentPage=0|paging:number=9\"\n",
    "headers = {'User-Agent':'Mozilla/5.0 (Macintosh; Intel Mac OS X 10_15_7) AppleWebKit/537.36 (KHTML, like Gecko) Chrome/105.0.0.0 Safari/537.36'}\n",
    "response = requests.get(url, headers)\n",
    "soup = BeautifulSoup(response.text, 'html.parser')\n",
    "soup.text[:50]\n",
    "# functions check complete"
   ]
  },
  {
   "cell_type": "code",
   "execution_count": 27,
   "metadata": {},
   "outputs": [],
   "source": [
    "def scrapeEVs():\n",
    "\n",
    "    start = time.time()\n",
    "\n",
    "    results = []\n",
    "\n",
    "    url = \"https://ev-database.org/#sort:path~type~order=.rank~number~desc|range-slider-range:prev~next=0~1200|range-slider-acceleration:prev~next=2~23|range-slider-topspeed:prev~next=110~450|range-slider-battery:prev~next=10~200|range-slider-towweight:prev~next=0~2500|range-slider-fastcharge:prev~next=0~1500|paging:currentPage=0|paging:number=all\"\n",
    "    \n",
    "    headers = {\"cookie\": \"PHPSESSID=sr0qffdk7v17jhqrcu7bohj682; locale=si\"}\n",
    "\n",
    "    while True:\n",
    "        try:\n",
    "            response = requests.request(\"GET\", url, headers=headers, timeout=10)\n",
    "            break\n",
    "        except:\n",
    "            print('response unsuccessful')\n",
    "            time.sleep(15)\n",
    "\n",
    "    time_taken = time.time() - start\n",
    "\n",
    "    #following line commented out for scrapes only 1 page in length\n",
    "    #print(f\"\\rFetching page {page} of {n-1} at {url}, time per query is {time_taken}\", end=\"\")\n",
    "\n",
    "    soup = BeautifulSoup(response.text, 'html.parser')\n",
    "    \n",
    "    make = soup.find(class_=\"title\").text\n",
    "    model = soup.find(class_=\"title\").text\n",
    "    accel = soup.find(class_=\"acceleration\").text\n",
    "    speed = soup.find(class_=\"topspeed\").text\n",
    "    ev_range = soup.find(class_=\"erange_real\").text\n",
    "    bev = soup.find(class_=\"battery\").text\n",
    "    charge = soup.find(class_=\"fastcharge_speed_print\").text\n",
    "    g_price = soup.find(title=\"Price in Germany before incentives\").text\n",
    "    d_price = soup.find(title=\"Price in The Netherlands before incentives\").text\n",
    "    uk_price = soup.find(title=\"Price in the United Kingdom after incentives\").text\n",
    "\n",
    "    evFacts = {'Make': make,\n",
    "            'Model': model,\n",
    "            '0_t0_100': accel,\n",
    "            'Top_Speed': speed,\n",
    "            'Range': ev_range,\n",
    "            'Battery_Capacity': bev,\n",
    "            'Fast_Charge': charge,\n",
    "            'German_Price': g_price,\n",
    "            'Dutch_Price': d_price,\n",
    "            'UK_Price': uk_price}\n",
    "    \n",
    "    results.append(evFacts)\n",
    "\n",
    "    results_df = pd.DataFrame(results)\n",
    "    #results_df.to_csv('REIscrape.csv')\n",
    "    return results_df"
   ]
  },
  {
   "cell_type": "code",
   "execution_count": 28,
   "metadata": {},
   "outputs": [
    {
     "data": {
      "text/plain": [
       "'MG MG4 Electric Long Range'"
      ]
     },
     "execution_count": 28,
     "metadata": {},
     "output_type": "execute_result"
    }
   ],
   "source": [
    "# functions check\n",
    "url = \"https://ev-database.org/#sort:path~type~order=.rank~number~desc|range-slider-range:prev~next=0~1200|range-slider-acceleration:prev~next=2~23|range-slider-topspeed:prev~next=110~450|range-slider-battery:prev~next=10~200|range-slider-towweight:prev~next=0~2500|range-slider-fastcharge:prev~next=0~1500|paging:currentPage=0|paging:number=all\"\n",
    "headers = {\"cookie\": \"PHPSESSID=sr0qffdk7v17jhqrcu7bohj682; locale=si\"}\n",
    "soup = BeautifulSoup(response.text, 'html.parser')\n",
    "soup.find(class_=\"title\").text"
   ]
  },
  {
   "cell_type": "code",
   "execution_count": 29,
   "metadata": {},
   "outputs": [
    {
     "data": {
      "text/html": [
       "<div><div id=727c1fcf-4d54-47f4-9f0f-4b8e32ea8f56 style=\"display:none; background-color:#9D6CFF; color:white; width:200px; height:30px; padding-left:5px; border-radius:4px; flex-direction:row; justify-content:space-around; align-items:center;\" onmouseover=\"this.style.backgroundColor='#BA9BF8'\" onmouseout=\"this.style.backgroundColor='#9D6CFF'\" onclick=\"window.commands?.execute('create-mitosheet-from-dataframe-output');\">See Full Dataframe in Mito</div> <script> if (window.commands?.hasCommand('create-mitosheet-from-dataframe-output')) document.getElementById('727c1fcf-4d54-47f4-9f0f-4b8e32ea8f56').style.display = 'flex' </script> <table border=\"1\" class=\"dataframe\">\n",
       "  <thead>\n",
       "    <tr style=\"text-align: right;\">\n",
       "      <th></th>\n",
       "      <th>Make</th>\n",
       "      <th>Model</th>\n",
       "      <th>0_t0_100</th>\n",
       "      <th>Top_Speed</th>\n",
       "      <th>Range</th>\n",
       "      <th>Battery_Capacity</th>\n",
       "      <th>Fast_Charge</th>\n",
       "      <th>German_Price</th>\n",
       "      <th>Dutch_Price</th>\n",
       "      <th>UK_Price</th>\n",
       "    </tr>\n",
       "  </thead>\n",
       "  <tbody>\n",
       "    <tr>\n",
       "      <th>0</th>\n",
       "      <td>MG MG4 Electric Long Range</td>\n",
       "      <td>MG MG4 Electric Long Range</td>\n",
       "      <td>8.0 sec</td>\n",
       "      <td>160 km/h</td>\n",
       "      <td>360 km</td>\n",
       "      <td>61.7</td>\n",
       "      <td>440 km/h</td>\n",
       "      <td>€35,990</td>\n",
       "      <td>* €33,000</td>\n",
       "      <td>£28,495</td>\n",
       "    </tr>\n",
       "  </tbody>\n",
       "</table></div>"
      ],
      "text/plain": [
       "                         Make                       Model 0_t0_100 Top_Speed  \\\n",
       "0  MG MG4 Electric Long Range  MG MG4 Electric Long Range  8.0 sec  160 km/h   \n",
       "\n",
       "    Range Battery_Capacity Fast_Charge German_Price Dutch_Price UK_Price  \n",
       "0  360 km             61.7    440 km/h      €35,990   * €33,000  £28,495  "
      ]
     },
     "execution_count": 29,
     "metadata": {},
     "output_type": "execute_result"
    }
   ],
   "source": [
    "scrapeEVs()"
   ]
  },
  {
   "cell_type": "code",
   "execution_count": null,
   "metadata": {},
   "outputs": [],
   "source": []
  }
 ],
 "metadata": {
  "kernelspec": {
   "display_name": "Python 3.9.7 ('base')",
   "language": "python",
   "name": "python3"
  },
  "language_info": {
   "codemirror_mode": {
    "name": "ipython",
    "version": 3
   },
   "file_extension": ".py",
   "mimetype": "text/x-python",
   "name": "python",
   "nbconvert_exporter": "python",
   "pygments_lexer": "ipython3",
   "version": "3.9.7"
  },
  "orig_nbformat": 4,
  "vscode": {
   "interpreter": {
    "hash": "38cca0c38332a56087b24af0bc80247f4fced29cb4f7f437d91dc159adec9c4e"
   }
  }
 },
 "nbformat": 4,
 "nbformat_minor": 2
}
