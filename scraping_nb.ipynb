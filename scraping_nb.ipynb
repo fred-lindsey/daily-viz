{
 "cells": [
  {
   "cell_type": "code",
   "execution_count": 1,
   "metadata": {},
   "outputs": [],
   "source": [
    "# the first scrapes I want are of 5 stock tickers from yahoo finance API\n",
    "# stocks: Airbnb, Tesla, Crowdstrike, Palo Alto, Salesforce"
   ]
  },
  {
   "cell_type": "code",
   "execution_count": 29,
   "metadata": {},
   "outputs": [],
   "source": [
    "\n",
    "#import the required libraries:\n",
    "from requests import get\n",
    "from bs4 import BeautifulSoup\n",
    "import os\n",
    "import requests\n",
    "import json\n",
    "from typing import Dict, List, Optional, Union, cast\n",
    "import time\n",
    "import pandas as pd\n",
    "from datetime import date\n",
    "\n",
    "#from env import yahoo_token, yahoo_username"
   ]
  },
  {
   "cell_type": "code",
   "execution_count": 30,
   "metadata": {},
   "outputs": [],
   "source": [
    "# Create the pbjects to use later on:\n",
    "\n",
    "url = 'https://finance.yahoo.com/'\n",
    "endpoints = ['quote/ABNB?p=ABNB', 'quote/TSLA?p=TSLA', 'quote/CRWD?p=CRWD', 'quote/PANW?p=PANW', 'quote/CRM?p=CRM']\n",
    "# headers will custom is key is required for API\n",
    "headers = {'User-Agent': 'Codeup Data Science'}\n"
   ]
  },
  {
   "cell_type": "code",
   "execution_count": 31,
   "metadata": {},
   "outputs": [],
   "source": [
    "# Write the response variable\n",
    "def get_response():\n",
    "    responses = []\n",
    "    for endpoint in endpoints:\n",
    "        response = get(url+endpoint, headers=headers)\n",
    "        responses.append(response)\n",
    "        response = response.text\n",
    "        print(response[:15])\n",
    "    return responses"
   ]
  },
  {
   "cell_type": "code",
   "execution_count": 32,
   "metadata": {},
   "outputs": [
    {
     "name": "stdout",
     "output_type": "stream",
     "text": [
      "<!DOCTYPE html>\n",
      "<!DOCTYPE html>\n",
      "<!DOCTYPE html>\n",
      "<!DOCTYPE html>\n",
      "<!DOCTYPE html>\n"
     ]
    },
    {
     "data": {
      "text/plain": [
       "[<Response [200]>,\n",
       " <Response [200]>,\n",
       " <Response [200]>,\n",
       " <Response [200]>,\n",
       " <Response [200]>]"
      ]
     },
     "execution_count": 32,
     "metadata": {},
     "output_type": "execute_result"
    }
   ],
   "source": [
    "get_response()"
   ]
  },
  {
   "cell_type": "code",
   "execution_count": null,
   "metadata": {},
   "outputs": [],
   "source": [
    "# bits and pieces test:\n",
    "# set out the basic elements for the scraper to access\n",
    "baseUrl = 'https://finance.yahoo.com/'\n",
    "# add in the endpoints for the various stocks you want to check\n",
    "endpoint = 'quote/ABNB?p=ABNB'\n",
    "actual = 'https://finance.yahoo.com/quote/ABNB?p=ABNB'\n",
    "# headers will be generic unless a custom is key is required for the yfinance API\n",
    "#headers = {'User-Agent': 'Codeup Data Science'}\n",
    "url = f'{baseUrl}{endpoint}'\n",
    "#url = actual\n",
    "response = get(url)\n",
    "# create the scraper\n",
    "soup = BeautifulSoup(response.text, 'html.parser')"
   ]
  },
  {
   "cell_type": "code",
   "execution_count": null,
   "metadata": {},
   "outputs": [
    {
     "data": {
      "text/plain": [
       "'<!DOCTYPE html><html data-color-theme=\"light\" id=\"'"
      ]
     },
     "metadata": {},
     "output_type": "display_data"
    }
   ],
   "source": [
    "response.text[:50]"
   ]
  },
  {
   "cell_type": "code",
   "execution_count": null,
   "metadata": {},
   "outputs": [
    {
     "data": {
      "text/plain": [
       "('115.89', 'Airbnb, Inc. (ABNB)', '115.42 - 117.95', '117.03')"
      ]
     },
     "metadata": {},
     "output_type": "display_data"
    }
   ],
   "source": [
    "# BS4 custom tags\n",
    "# used an atttribute to tell BS that we want to use for ID\n",
    "# beatiful soup custom tags for more info\n",
    "# Selenium for site interaction, but can be a little slow\n",
    "# read in the old CSV, then add in the new, then overwrite\n",
    "openingPrice = soup.find(attrs = {\"data-test\":\"OPEN-value\"}).text\n",
    "ticker = soup.find(class_=\"D(ib) Fz(18px)\").text\n",
    "dailyRange = soup.find(attrs = {\"data-test\":\"DAYS_RANGE-value\"}).text\n",
    "closingPrice = soup.find(attrs = {\"data-test\":\"qsp-price\", \"data-field\":\"regularMarketPrice\"}).text\n",
    "openingPrice, ticker, dailyRange, closingPrice"
   ]
  },
  {
   "cell_type": "code",
   "execution_count": 52,
   "metadata": {},
   "outputs": [],
   "source": [
    "# I want date, open, high, close, stock name\n",
    "def get_prices():\n",
    "    # set out the basic elements for the scraper to access\n",
    "    baseUrl = 'https://finance.yahoo.com/'\n",
    "    # add in the endpoints for the various stocks you want to check\n",
    "    endpoints = ['quote/ABNB?p=ABNB', 'quote/TSLA?p=TSLA', 'quote/CRWD?p=CRWD', 'quote/PANW?p=PANW', 'quote/CRM?p=CRM']\n",
    "    # headers will be generic unless a custom is key is required for the yfinance API\n",
    "    headers = {'User-Agent': 'Codeup Data Science'}\n",
    "\n",
    "    #create an empty list to store the dictionary of daily values\n",
    "    dailyOverview = []\n",
    "\n",
    "    # make a for loop to iterate through the URL and endpoints\n",
    "    for endpoint in endpoints:\n",
    "        url = f'{baseUrl}{endpoint}'\n",
    "        headers = {'User-Agent': 'Codeup Data Science'}\n",
    "        while True:\n",
    "            response = get(url, headers=headers)\n",
    "            if response.ok:\n",
    "                break\n",
    "            else:\n",
    "                time.sleep(15)\n",
    "\n",
    "        # create the scraper\n",
    "        soup = BeautifulSoup(response.text, 'html.parser')\n",
    "\n",
    "        # list the variables to scrape\n",
    "\n",
    "        day = date.today()\n",
    "\n",
    "        ticker = soup.find(class_=\"D(ib) Fz(18px)\").text\n",
    "\n",
    "        openingPrice = soup.find(attrs = {\"data-test\":\"OPEN-value\"}).text\n",
    "\n",
    "        dailyRange = soup.find(attrs = {\"data-test\":\"DAYS_RANGE-value\"}).text\n",
    "\n",
    "        closingPrice = soup.find(attrs = {\"data-test\":\"qsp-price\", \"data-field\":\"regularMarketPrice\"}).text\n",
    "\n",
    "        # create a dictionary to store the variables\n",
    "        all_prices = {'Day': day,\n",
    "            'Stock': ticker,\n",
    "            'Open': openingPrice,\n",
    "            'Range': dailyRange,\n",
    "           'Close': closingPrice}\n",
    "\n",
    "        # add a check statement to display the progress\n",
    "        print(f'\\rFetching page {endpoint}', end='')\n",
    "\n",
    "        # append the iterated stock dictionary to the master list\n",
    "        dailyOverview.append(all_prices)\n",
    "\n",
    "    # convert the list to a DataFrame\n",
    "    dailyOverview = pd.DataFrame(dailyOverview)\n",
    "\n",
    "    # return the DataFrame\n",
    "    return dailyOverview"
   ]
  },
  {
   "cell_type": "code",
   "execution_count": 53,
   "metadata": {},
   "outputs": [
    {
     "name": "stdout",
     "output_type": "stream",
     "text": [
      "Fetching page quote/CRM?p=CRMNW"
     ]
    },
    {
     "data": {
      "text/html": [
       "<div><div id=aafad276-83a5-4962-8143-87ff0473ea06 style=\"display:none; background-color:#9D6CFF; color:white; width:200px; height:30px; padding-left:5px; border-radius:4px; flex-direction:row; justify-content:space-around; align-items:center;\" onmouseover=\"this.style.backgroundColor='#BA9BF8'\" onmouseout=\"this.style.backgroundColor='#9D6CFF'\" onclick=\"window.commands?.execute('create-mitosheet-from-dataframe-output');\">See Full Dataframe in Mito</div> <script> if (window.commands?.hasCommand('create-mitosheet-from-dataframe-output')) document.getElementById('aafad276-83a5-4962-8143-87ff0473ea06').style.display = 'flex' </script> <table border=\"1\" class=\"dataframe\">\n",
       "  <thead>\n",
       "    <tr style=\"text-align: right;\">\n",
       "      <th></th>\n",
       "      <th>Day</th>\n",
       "      <th>Stock</th>\n",
       "      <th>Open</th>\n",
       "      <th>Range</th>\n",
       "      <th>Close</th>\n",
       "    </tr>\n",
       "  </thead>\n",
       "  <tbody>\n",
       "    <tr>\n",
       "      <th>0</th>\n",
       "      <td>2022-08-25</td>\n",
       "      <td>Airbnb, Inc. (ABNB)</td>\n",
       "      <td>115.89</td>\n",
       "      <td>115.42 - 117.95</td>\n",
       "      <td>117.03</td>\n",
       "    </tr>\n",
       "    <tr>\n",
       "      <th>1</th>\n",
       "      <td>2022-08-25</td>\n",
       "      <td>Tesla, Inc. (TSLA)</td>\n",
       "      <td>302.36</td>\n",
       "      <td>291.63 - 302.95</td>\n",
       "      <td>296.07</td>\n",
       "    </tr>\n",
       "    <tr>\n",
       "      <th>2</th>\n",
       "      <td>2022-08-25</td>\n",
       "      <td>CrowdStrike Holdings, Inc. (CRWD)</td>\n",
       "      <td>199.29</td>\n",
       "      <td>197.54 - 203.67</td>\n",
       "      <td>202.94</td>\n",
       "    </tr>\n",
       "    <tr>\n",
       "      <th>3</th>\n",
       "      <td>2022-08-25</td>\n",
       "      <td>Palo Alto Networks, Inc. (PANW)</td>\n",
       "      <td>570.00</td>\n",
       "      <td>568.38 - 578.79</td>\n",
       "      <td>575.58</td>\n",
       "    </tr>\n",
       "    <tr>\n",
       "      <th>4</th>\n",
       "      <td>2022-08-25</td>\n",
       "      <td>Salesforce, Inc. (CRM)</td>\n",
       "      <td>168.58</td>\n",
       "      <td>165.56 - 174.14</td>\n",
       "      <td>173.91</td>\n",
       "    </tr>\n",
       "  </tbody>\n",
       "</table></div>"
      ],
      "text/plain": [
       "          Day                              Stock    Open            Range  \\\n",
       "0  2022-08-25                Airbnb, Inc. (ABNB)  115.89  115.42 - 117.95   \n",
       "1  2022-08-25                 Tesla, Inc. (TSLA)  302.36  291.63 - 302.95   \n",
       "2  2022-08-25  CrowdStrike Holdings, Inc. (CRWD)  199.29  197.54 - 203.67   \n",
       "3  2022-08-25    Palo Alto Networks, Inc. (PANW)  570.00  568.38 - 578.79   \n",
       "4  2022-08-25             Salesforce, Inc. (CRM)  168.58  165.56 - 174.14   \n",
       "\n",
       "    Close  \n",
       "0  117.03  \n",
       "1  296.07  \n",
       "2  202.94  \n",
       "3  575.58  \n",
       "4  173.91  "
      ]
     },
     "execution_count": 53,
     "metadata": {},
     "output_type": "execute_result"
    }
   ],
   "source": [
    "df = get_prices()\n",
    "df"
   ]
  }
 ],
 "metadata": {
  "kernelspec": {
   "display_name": "Python 3.9.7 ('base')",
   "language": "python",
   "name": "python3"
  },
  "language_info": {
   "codemirror_mode": {
    "name": "ipython",
    "version": 3
   },
   "file_extension": ".py",
   "mimetype": "text/x-python",
   "name": "python",
   "nbconvert_exporter": "python",
   "pygments_lexer": "ipython3",
   "version": "3.9.7"
  },
  "orig_nbformat": 4,
  "vscode": {
   "interpreter": {
    "hash": "38cca0c38332a56087b24af0bc80247f4fced29cb4f7f437d91dc159adec9c4e"
   }
  }
 },
 "nbformat": 4,
 "nbformat_minor": 2
}
